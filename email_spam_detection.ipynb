{
 "cells": [
  {
   "cell_type": "markdown",
   "id": "9047ee94-b028-446c-9c33-bb70a80656c8",
   "metadata": {},
   "source": [
    "# Importing Required Libraries"
   ]
  },
  {
   "cell_type": "code",
   "execution_count": 2,
   "id": "3f48c80d-d0b4-4960-a8c4-b22522c80a95",
   "metadata": {},
   "outputs": [],
   "source": [
    "import numpy as np\n",
    "import pandas as pd\n",
    "import matplotlib.pyplot as plt\n",
    "import seaborn as sns\n",
    "import re\n",
    "import string\n",
    "from sklearn.model_selection import train_test_split\n",
    "from sklearn.feature_extraction.text import TfidfVectorizer\n",
    "from sklearn.linear_model import LogisticRegression\n",
    "from sklearn.naive_bayes import MultinomialNB\n",
    "from sklearn.svm import SVC\n",
    "from sklearn.ensemble import RandomForestClassifier\n",
    "from sklearn.metrics import accuracy_score, classification_report, confusion_matrix"
   ]
  },
  {
   "cell_type": "markdown",
   "id": "31a978de-6c45-4c40-9a00-99bb87445fd4",
   "metadata": {},
   "source": [
    "# Loading Dataset"
   ]
  },
  {
   "cell_type": "code",
   "execution_count": 3,
   "id": "1d5b8ab4-2054-4f2f-9747-da95bb7f7784",
   "metadata": {},
   "outputs": [],
   "source": [
    "df = pd.read_csv('email_spam.csv',encoding='latin-1')"
   ]
  },
  {
   "cell_type": "markdown",
   "id": "1682b432-21db-4bf4-afde-cb569d8be146",
   "metadata": {},
   "source": [
    "# Exploratory Data Analysis (EDA)"
   ]
  },
  {
   "cell_type": "code",
   "execution_count": 4,
   "id": "b78c5c2f-8a31-4235-aded-4c5022297ea4",
   "metadata": {},
   "outputs": [
    {
     "data": {
      "text/html": [
       "<div>\n",
       "<style scoped>\n",
       "    .dataframe tbody tr th:only-of-type {\n",
       "        vertical-align: middle;\n",
       "    }\n",
       "\n",
       "    .dataframe tbody tr th {\n",
       "        vertical-align: top;\n",
       "    }\n",
       "\n",
       "    .dataframe thead th {\n",
       "        text-align: right;\n",
       "    }\n",
       "</style>\n",
       "<table border=\"1\" class=\"dataframe\">\n",
       "  <thead>\n",
       "    <tr style=\"text-align: right;\">\n",
       "      <th></th>\n",
       "      <th>v1</th>\n",
       "      <th>v2</th>\n",
       "      <th>Unnamed: 2</th>\n",
       "      <th>Unnamed: 3</th>\n",
       "      <th>Unnamed: 4</th>\n",
       "    </tr>\n",
       "  </thead>\n",
       "  <tbody>\n",
       "    <tr>\n",
       "      <th>0</th>\n",
       "      <td>ham</td>\n",
       "      <td>Go until jurong point, crazy.. Available only ...</td>\n",
       "      <td>NaN</td>\n",
       "      <td>NaN</td>\n",
       "      <td>NaN</td>\n",
       "    </tr>\n",
       "    <tr>\n",
       "      <th>1</th>\n",
       "      <td>ham</td>\n",
       "      <td>Ok lar... Joking wif u oni...</td>\n",
       "      <td>NaN</td>\n",
       "      <td>NaN</td>\n",
       "      <td>NaN</td>\n",
       "    </tr>\n",
       "    <tr>\n",
       "      <th>2</th>\n",
       "      <td>spam</td>\n",
       "      <td>Free entry in 2 a wkly comp to win FA Cup fina...</td>\n",
       "      <td>NaN</td>\n",
       "      <td>NaN</td>\n",
       "      <td>NaN</td>\n",
       "    </tr>\n",
       "    <tr>\n",
       "      <th>3</th>\n",
       "      <td>ham</td>\n",
       "      <td>U dun say so early hor... U c already then say...</td>\n",
       "      <td>NaN</td>\n",
       "      <td>NaN</td>\n",
       "      <td>NaN</td>\n",
       "    </tr>\n",
       "    <tr>\n",
       "      <th>4</th>\n",
       "      <td>ham</td>\n",
       "      <td>Nah I don't think he goes to usf, he lives aro...</td>\n",
       "      <td>NaN</td>\n",
       "      <td>NaN</td>\n",
       "      <td>NaN</td>\n",
       "    </tr>\n",
       "  </tbody>\n",
       "</table>\n",
       "</div>"
      ],
      "text/plain": [
       "     v1                                                 v2 Unnamed: 2  \\\n",
       "0   ham  Go until jurong point, crazy.. Available only ...        NaN   \n",
       "1   ham                      Ok lar... Joking wif u oni...        NaN   \n",
       "2  spam  Free entry in 2 a wkly comp to win FA Cup fina...        NaN   \n",
       "3   ham  U dun say so early hor... U c already then say...        NaN   \n",
       "4   ham  Nah I don't think he goes to usf, he lives aro...        NaN   \n",
       "\n",
       "  Unnamed: 3 Unnamed: 4  \n",
       "0        NaN        NaN  \n",
       "1        NaN        NaN  \n",
       "2        NaN        NaN  \n",
       "3        NaN        NaN  \n",
       "4        NaN        NaN  "
      ]
     },
     "execution_count": 4,
     "metadata": {},
     "output_type": "execute_result"
    }
   ],
   "source": [
    "df.head()"
   ]
  },
  {
   "cell_type": "code",
   "execution_count": 5,
   "id": "2e7a3ab1-89a6-471f-b960-1dfe16bc137a",
   "metadata": {},
   "outputs": [],
   "source": [
    "df = df[['v1','v2']]\n",
    "df.columns=['label','text']"
   ]
  },
  {
   "cell_type": "code",
   "execution_count": 6,
   "id": "2ef124f2-71f9-43c6-bf1c-06622c0e48a1",
   "metadata": {},
   "outputs": [
    {
     "data": {
      "text/html": [
       "<div>\n",
       "<style scoped>\n",
       "    .dataframe tbody tr th:only-of-type {\n",
       "        vertical-align: middle;\n",
       "    }\n",
       "\n",
       "    .dataframe tbody tr th {\n",
       "        vertical-align: top;\n",
       "    }\n",
       "\n",
       "    .dataframe thead th {\n",
       "        text-align: right;\n",
       "    }\n",
       "</style>\n",
       "<table border=\"1\" class=\"dataframe\">\n",
       "  <thead>\n",
       "    <tr style=\"text-align: right;\">\n",
       "      <th></th>\n",
       "      <th>label</th>\n",
       "      <th>text</th>\n",
       "    </tr>\n",
       "  </thead>\n",
       "  <tbody>\n",
       "    <tr>\n",
       "      <th>0</th>\n",
       "      <td>ham</td>\n",
       "      <td>Go until jurong point, crazy.. Available only ...</td>\n",
       "    </tr>\n",
       "    <tr>\n",
       "      <th>1</th>\n",
       "      <td>ham</td>\n",
       "      <td>Ok lar... Joking wif u oni...</td>\n",
       "    </tr>\n",
       "    <tr>\n",
       "      <th>2</th>\n",
       "      <td>spam</td>\n",
       "      <td>Free entry in 2 a wkly comp to win FA Cup fina...</td>\n",
       "    </tr>\n",
       "    <tr>\n",
       "      <th>3</th>\n",
       "      <td>ham</td>\n",
       "      <td>U dun say so early hor... U c already then say...</td>\n",
       "    </tr>\n",
       "    <tr>\n",
       "      <th>4</th>\n",
       "      <td>ham</td>\n",
       "      <td>Nah I don't think he goes to usf, he lives aro...</td>\n",
       "    </tr>\n",
       "  </tbody>\n",
       "</table>\n",
       "</div>"
      ],
      "text/plain": [
       "  label                                               text\n",
       "0   ham  Go until jurong point, crazy.. Available only ...\n",
       "1   ham                      Ok lar... Joking wif u oni...\n",
       "2  spam  Free entry in 2 a wkly comp to win FA Cup fina...\n",
       "3   ham  U dun say so early hor... U c already then say...\n",
       "4   ham  Nah I don't think he goes to usf, he lives aro..."
      ]
     },
     "execution_count": 6,
     "metadata": {},
     "output_type": "execute_result"
    }
   ],
   "source": [
    "df.head()"
   ]
  },
  {
   "cell_type": "code",
   "execution_count": 7,
   "id": "0c968bd9-3b17-4d8b-bd81-b1d388e679e1",
   "metadata": {},
   "outputs": [
    {
     "name": "stdout",
     "output_type": "stream",
     "text": [
      "<class 'pandas.core.frame.DataFrame'>\n",
      "RangeIndex: 5572 entries, 0 to 5571\n",
      "Data columns (total 2 columns):\n",
      " #   Column  Non-Null Count  Dtype \n",
      "---  ------  --------------  ----- \n",
      " 0   label   5572 non-null   object\n",
      " 1   text    5572 non-null   object\n",
      "dtypes: object(2)\n",
      "memory usage: 87.2+ KB\n"
     ]
    }
   ],
   "source": [
    "df.info()"
   ]
  },
  {
   "cell_type": "code",
   "execution_count": 8,
   "id": "e6c762cc-5229-4098-aee4-6801b928f2ec",
   "metadata": {},
   "outputs": [
    {
     "data": {
      "text/html": [
       "<div>\n",
       "<style scoped>\n",
       "    .dataframe tbody tr th:only-of-type {\n",
       "        vertical-align: middle;\n",
       "    }\n",
       "\n",
       "    .dataframe tbody tr th {\n",
       "        vertical-align: top;\n",
       "    }\n",
       "\n",
       "    .dataframe thead th {\n",
       "        text-align: right;\n",
       "    }\n",
       "</style>\n",
       "<table border=\"1\" class=\"dataframe\">\n",
       "  <thead>\n",
       "    <tr style=\"text-align: right;\">\n",
       "      <th></th>\n",
       "      <th>label</th>\n",
       "      <th>text</th>\n",
       "    </tr>\n",
       "  </thead>\n",
       "  <tbody>\n",
       "    <tr>\n",
       "      <th>count</th>\n",
       "      <td>5572</td>\n",
       "      <td>5572</td>\n",
       "    </tr>\n",
       "    <tr>\n",
       "      <th>unique</th>\n",
       "      <td>2</td>\n",
       "      <td>5169</td>\n",
       "    </tr>\n",
       "    <tr>\n",
       "      <th>top</th>\n",
       "      <td>ham</td>\n",
       "      <td>Sorry, I'll call later</td>\n",
       "    </tr>\n",
       "    <tr>\n",
       "      <th>freq</th>\n",
       "      <td>4825</td>\n",
       "      <td>30</td>\n",
       "    </tr>\n",
       "  </tbody>\n",
       "</table>\n",
       "</div>"
      ],
      "text/plain": [
       "       label                    text\n",
       "count   5572                    5572\n",
       "unique     2                    5169\n",
       "top      ham  Sorry, I'll call later\n",
       "freq    4825                      30"
      ]
     },
     "execution_count": 8,
     "metadata": {},
     "output_type": "execute_result"
    }
   ],
   "source": [
    "df.describe()"
   ]
  },
  {
   "cell_type": "markdown",
   "id": "a181a4e6-b0a9-4bb7-bef6-ddc713e1b0cf",
   "metadata": {},
   "source": [
    "#### We can see that there are no missing values but to ensure our understanding we can check it also"
   ]
  },
  {
   "cell_type": "code",
   "execution_count": 59,
   "id": "c4dcf3d6-7bdb-4bf2-8d4c-adc4797f4d4a",
   "metadata": {},
   "outputs": [
    {
     "data": {
      "text/plain": [
       "label           0\n",
       "text            0\n",
       "text_length     0\n",
       "cleaned_text    0\n",
       "spam            0\n",
       "dtype: int64"
      ]
     },
     "execution_count": 59,
     "metadata": {},
     "output_type": "execute_result"
    }
   ],
   "source": [
    "df.isnull().sum()"
   ]
  },
  {
   "cell_type": "markdown",
   "id": "0137db29-1e48-40d0-adcb-e7779f6c9734",
   "metadata": {},
   "source": [
    "#### To know how the data is distributed between the two classes (spam and ham). We will visualize this using a count plot."
   ]
  },
  {
   "cell_type": "code",
   "execution_count": 10,
   "id": "e9f071ef-4f1e-4546-86e1-ee0dad33ed77",
   "metadata": {},
   "outputs": [
    {
     "name": "stderr",
     "output_type": "stream",
     "text": [
      "c:\\users\\hp\\anaconda3\\lib\\site-packages\\seaborn\\_decorators.py:36: FutureWarning: Pass the following variable as a keyword arg: x. From version 0.12, the only valid positional argument will be `data`, and passing other arguments without an explicit keyword will result in an error or misinterpretation.\n",
      "  warnings.warn(\n"
     ]
    },
    {
     "data": {
      "image/png": "[encoded data removed]",
      "text/plain": [
       "<Figure size 640x480 with 1 Axes>"
      ]
     },
     "metadata": {},
     "output_type": "display_data"
    }
   ],
   "source": [
    "sns.countplot(df['label'])\n",
    "plt.title('Distribution of Spam vs Ham Emails')\n",
    "plt.xlabel('Label')\n",
    "plt.ylabel('Count')\n",
    "plt.show()"
   ]
  },
  {
   "cell_type": "code",
   "execution_count": 11,
   "id": "1d7e7c3e-1204-49a5-bb9a-10c4d01d4b3a",
   "metadata": {},
   "outputs": [
    {
     "name": "stdout",
     "output_type": "stream",
     "text": [
      "\n",
      "Class Distribution:\n",
      "label\n",
      "ham     86.593683\n",
      "spam    13.406317\n",
      "Name: proportion, dtype: float64\n"
     ]
    }
   ],
   "source": [
    "#Percentage distribution\n",
    "spam_percentage = df['label'].value_counts(normalize=True) * 100\n",
    "print(f\"\\nClass Distribution:\\n{spam_percentage}\")"
   ]
  },
  {
   "cell_type": "markdown",
   "id": "67a5d4d2-d22a-47fb-b3c8-9ea123c47c9a",
   "metadata": {},
   "source": [
    "#### Text Length Analysis"
   ]
  },
  {
   "cell_type": "code",
   "execution_count": 12,
   "id": "ba7cf334-55f5-4f87-8e7f-98b0ad76a700",
   "metadata": {},
   "outputs": [],
   "source": [
    "# Adding a column for the length of the email/text\n",
    "df['text_length']=df['text'].apply(len)"
   ]
  },
  {
   "cell_type": "code",
   "execution_count": 13,
   "id": "5a5bb394-e1ca-479e-8e64-b16aacb42f71",
   "metadata": {},
   "outputs": [
    {
     "data": {
      "image/png": "[encoded data removed]",
      "text/plain": [
       "<Figure size 1200x600 with 1 Axes>"
      ]
     },
     "metadata": {},
     "output_type": "display_data"
    }
   ],
   "source": [
    "#plot the distribution of the length for ham/spam\n",
    "plt.figure(figsize=(12,6))\n",
    "sns.histplot(data=df, x=\"text_length\", hue=\"label\", bins=50)\n",
    "plt.title(\"Distribution of length by email type(Spam Vs Ham)\")\n",
    "plt.xlabel('text length')\n",
    "plt.ylabel('Frequency')\n",
    "plt.show()"
   ]
  },
  {
   "cell_type": "code",
   "execution_count": 14,
   "id": "10e088c4-6bbf-4821-8c82-12d072c3de07",
   "metadata": {},
   "outputs": [],
   "source": [
    "# Summary statistics for spam and ham text lengths\n",
    "spam_text_length = df[df['label'] == 'spam']['text_length']\n",
    "ham_text_length = df[df['label'] == 'ham']['text_length']"
   ]
  },
  {
   "cell_type": "code",
   "execution_count": 15,
   "id": "2596af56-65eb-4c9a-8187-bba625b0c57d",
   "metadata": {},
   "outputs": [
    {
     "name": "stdout",
     "output_type": "stream",
     "text": [
      "Average length of spam emails: 138.87\n",
      "Average length of ham emails: 71.02\n"
     ]
    }
   ],
   "source": [
    "print(f\"Average length of spam emails: {spam_text_length.mean():.2f}\")\n",
    "print(f\"Average length of ham emails: {ham_text_length.mean():.2f}\")"
   ]
  },
  {
   "cell_type": "markdown",
   "id": "583672be-afdb-4688-a2db-21347d1a1ce2",
   "metadata": {},
   "source": [
    "#### Word Frequency Analysis"
   ]
  },
  {
   "cell_type": "code",
   "execution_count": 62,
   "id": "26d6a695-707a-4300-a87d-d84a89624701",
   "metadata": {},
   "outputs": [],
   "source": [
    "# Import required libraries\n",
    "from collections import Counter\n",
    "import re\n",
    "import string"
   ]
  },
  {
   "cell_type": "code",
   "execution_count": 63,
   "id": "ed24a8c8-296d-421e-8b14-2ca89bed1193",
   "metadata": {},
   "outputs": [],
   "source": [
    "# Function to clean the text (removing punctuation, converting to lowercase, etc.)\n",
    "def clean_text(text):\n",
    "    text = text.lower()  # Convert to lowercase\n",
    "    text = re.sub(r'\\d+', '', text)  # Remove numbers\n",
    "    text = text.translate(str.maketrans('', '', string.punctuation))  # Remove punctuation\n",
    "    return text"
   ]
  },
  {
   "cell_type": "code",
   "execution_count": 64,
   "id": "fc6ba563-2ffa-4d6d-87e1-35b8d1e0b489",
   "metadata": {},
   "outputs": [],
   "source": [
    "# Apply the cleaning function to the text column\n",
    "df['cleaned_text'] = df['text'].apply(clean_text)"
   ]
  },
  {
   "cell_type": "code",
   "execution_count": 65,
   "id": "6a5c1a26-98bd-4c66-8710-cf4bd5a01482",
   "metadata": {},
   "outputs": [],
   "source": [
    "# Tokenize the cleaned text and count word frequency\n",
    "spam_words = ' '.join(df[df['label'] == 'spam']['cleaned_text']).split()\n",
    "ham_words = ' '.join(df[df['label'] == 'ham']['cleaned_text']).split()"
   ]
  },
  {
   "cell_type": "code",
   "execution_count": 66,
   "id": "451a56a5-b868-44b8-8bb0-6725c6b046fd",
   "metadata": {},
   "outputs": [],
   "source": [
    "# Most common words in spam and ham emails\n",
    "spam_word_freq = Counter(spam_words).most_common(20)\n",
    "ham_word_freq = Counter(ham_words).most_common(20)"
   ]
  },
  {
   "cell_type": "code",
   "execution_count": 67,
   "id": "adcb45a2-37a1-45f3-9902-a135a4395774",
   "metadata": {},
   "outputs": [],
   "source": [
    "# Convert to DataFrame for visualization\n",
    "spam_word_df = pd.DataFrame(spam_word_freq, columns=['Word', 'Frequency'])\n",
    "ham_word_df = pd.DataFrame(ham_word_freq, columns=['Word', 'Frequency'])"
   ]
  },
  {
   "cell_type": "code",
   "execution_count": 68,
   "id": "fbb2f649-f03a-474a-bd56-c9f8f8df873e",
   "metadata": {},
   "outputs": [
    {
     "data": {
      "image/png": "[encoded data removed]",
      "text/plain": [
       "<Figure size 1000x600 with 1 Axes>"
      ]
     },
     "metadata": {},
     "output_type": "display_data"
    }
   ],
   "source": [
    "# Plot most frequent words in spam emails\n",
    "plt.figure(figsize=(10, 6))\n",
    "sns.barplot(x='Frequency', y='Word', data=spam_word_df)\n",
    "plt.title('Top 20 Most Frequent Words in Spam Emails')\n",
    "plt.show()"
   ]
  },
  {
   "cell_type": "code",
   "execution_count": 69,
   "id": "837ed649-384b-4940-a472-894a94ad9fab",
   "metadata": {},
   "outputs": [
    {
     "data": {
      "image/png": "[encoded data removed]",
      "text/plain": [
       "<Figure size 1000x600 with 1 Axes>"
      ]
     },
     "metadata": {},
     "output_type": "display_data"
    }
   ],
   "source": [
    "# Plot most frequent words in ham emails\n",
    "plt.figure(figsize=(10, 6))\n",
    "sns.barplot(x='Frequency', y='Word', data=ham_word_df)\n",
    "plt.title('Top 20 Most Frequent Words in Ham Emails')\n",
    "plt.show()"
   ]
  },
  {
   "cell_type": "markdown",
   "id": "00016273-6fdf-4f6e-b2f2-0b07748def3e",
   "metadata": {},
   "source": [
    "#### Correlation Between Text Length and Spam"
   ]
  },
  {
   "cell_type": "code",
   "execution_count": 19,
   "id": "7bdca9b7-cbd7-48cc-a333-220adb37a20c",
   "metadata": {},
   "outputs": [],
   "source": [
    "# Correlation between text length and label\n",
    "df['spam'] = df['label'].map({'ham': 0, 'spam': 1})"
   ]
  },
  {
   "cell_type": "code",
   "execution_count": 20,
   "id": "b7354825-17c2-4d5e-a1b0-9f8414acedd7",
   "metadata": {},
   "outputs": [
    {
     "data": {
      "image/png": "[encoded data removed]",
      "text/plain": [
       "<Figure size 800x500 with 1 Axes>"
      ]
     },
     "metadata": {},
     "output_type": "display_data"
    }
   ],
   "source": [
    "# Scatter plot of text length vs label\n",
    "plt.figure(figsize=(8, 5))\n",
    "sns.scatterplot(x='text_length', y='spam', data=df)\n",
    "plt.title('Text Length vs Spam (Binary)')\n",
    "plt.xlabel('Text Length')\n",
    "plt.ylabel('Spam (1 = Spam, 0 = Ham)')\n",
    "plt.show()"
   ]
  },
  {
   "cell_type": "markdown",
   "id": "54566d48-3681-4502-a07d-56dd8aaffcfa",
   "metadata": {},
   "source": [
    "## Cleaning the email text"
   ]
  },
  {
   "cell_type": "code",
   "execution_count": 21,
   "id": "3f788bbc-b5a8-45ba-8267-2d6e1f458180",
   "metadata": {},
   "outputs": [],
   "source": [
    "def clean_text(text):\n",
    "    text = text.lower()  # Convert to lowercase\n",
    "    text = re.sub(r'\\d+', '', text)  # Remove numbers\n",
    "    text = text.translate(str.maketrans('', '', string.punctuation))  # Remove punctuation\n",
    "    text = text.strip()  # Remove leading/trailing whitespace\n",
    "    return text"
   ]
  },
  {
   "cell_type": "markdown",
   "id": "3a806019-540e-465f-9d7e-05ac86d44ffc",
   "metadata": {},
   "source": [
    "##### Apply text cleaning to the dataset"
   ]
  },
  {
   "cell_type": "code",
   "execution_count": 22,
   "id": "c0aac6df-ac44-4afb-9fca-5858018b67e5",
   "metadata": {},
   "outputs": [],
   "source": [
    "df['text'] = df['text'].apply(clean_text)"
   ]
  },
  {
   "cell_type": "markdown",
   "id": "4573d49c-ac42-4daf-90a2-71288ace7e60",
   "metadata": {},
   "source": [
    "Split the data into training and testing sets"
   ]
  },
  {
   "cell_type": "code",
   "execution_count": 23,
   "id": "a8fa8ecc-24ed-4f4d-a075-99ab235af02a",
   "metadata": {},
   "outputs": [],
   "source": [
    "X = df['text']\n",
    "y = df['label']\n",
    "X_train, X_test, y_train, y_test = train_test_split(X, y, test_size=0.2, random_state=42)"
   ]
  },
  {
   "cell_type": "markdown",
   "id": "0a7aeb2b-d48d-46f6-a776-86ef9c97321e",
   "metadata": {},
   "source": [
    "# Convert text data to numerical using TF-IDF Vectorizer"
   ]
  },
  {
   "cell_type": "code",
   "execution_count": 24,
   "id": "abf939f2-fb4d-4a9d-b151-a527182e151d",
   "metadata": {},
   "outputs": [],
   "source": [
    "vectorizer = TfidfVectorizer(stop_words='english', max_df=0.7)\n",
    "X_train_tfidf= vectorizer.fit_transform(X_train)\n",
    "X_test_tfidf = vectorizer.transform(X_test)"
   ]
  },
  {
   "cell_type": "markdown",
   "id": "201d9378-1254-4ddb-8e5e-be49428bba64",
   "metadata": {},
   "source": [
    "# Initialize classifiers"
   ]
  },
  {
   "cell_type": "code",
   "execution_count": 25,
   "id": "80d4ff7e-1402-4848-b552-72a4502f9e33",
   "metadata": {},
   "outputs": [],
   "source": [
    "log_reg = LogisticRegression(random_state=42)\n",
    "nb = MultinomialNB()\n",
    "svm = SVC(kernel='linear', random_state=42)\n",
    "rf = RandomForestClassifier(n_estimators=100, random_state=42)"
   ]
  },
  {
   "cell_type": "markdown",
   "id": "e8207224-9661-4bec-810f-ad77bf74a723",
   "metadata": {},
   "source": [
    "Why used this classifiers:-\n",
    "1. Logistic Regression: A simple, fast linear model for binary classification.\n",
    "2. Multinomial Naive Bayes: A probabilistic model that assumes feature independence and works well with word frequencies.\n",
    "3. SVM (Linear Kernel): A powerful linear classifier that maximizes the margin between classes.\n",
    "4. Random Forest: An ensemble method that builds multiple decision trees to improve accuracy and reduce overfitting."
   ]
  },
  {
   "cell_type": "markdown",
   "id": "08045cde-6e97-45be-9443-1d39fe899b61",
   "metadata": {},
   "source": [
    "## Training and evaluating Logistic Regression"
   ]
  },
  {
   "cell_type": "code",
   "execution_count": 26,
   "id": "3b91d2c5-58c5-41a4-95a0-8774bf3a1582",
   "metadata": {},
   "outputs": [
    {
     "name": "stdout",
     "output_type": "stream",
     "text": [
      "Logistic Regression Accuracy: 0.9506726457399103\n",
      "              precision    recall  f1-score   support\n",
      "\n",
      "         ham       0.95      1.00      0.97       965\n",
      "        spam       0.97      0.65      0.78       150\n",
      "\n",
      "    accuracy                           0.95      1115\n",
      "   macro avg       0.96      0.83      0.88      1115\n",
      "weighted avg       0.95      0.95      0.95      1115\n",
      "\n"
     ]
    }
   ],
   "source": [
    "log_reg.fit(X_train_tfidf, y_train)\n",
    "y_pred_log = log_reg.predict(X_test_tfidf)\n",
    "log_acc = accuracy_score(y_test, y_pred_log)\n",
    "print(f\"Logistic Regression Accuracy: {log_acc}\")\n",
    "print(classification_report(y_test, y_pred_log))"
   ]
  },
  {
   "cell_type": "markdown",
   "id": "1ebfdd41-c51e-4d3a-9b79-03d03ef1c1d5",
   "metadata": {},
   "source": [
    "Key Insights:\n",
    "1. Imbalance in Class Recall:\n",
    "The model is excellent at correctly identifying ham (non-spam) emails (100% recall), but it's missing 35% of the spam emails (recall of 0.65). This could be an issue if catching spam is crucial, as a significant number of spam emails are slipping through as ham.\n",
    "\n",
    "2. High Precision for Spam:\n",
    "The model is very confident when it labels an email as spam (precision of 0.97), meaning there are very few false positives (ham emails wrongly marked as spam). This is good if false positives (misclassifying ham as spam) are costly or undesirable.\n",
    "\n",
    "3. Overall Accuracy is High, but Recall Matters:\n",
    "While the accuracy (95%) looks good, it can be deceptive in imbalanced datasets. Here, since most emails are ham, the model’s strong performance on ham inflates the accuracy, but its recall on spam (65%) is lower, which could mean many spam emails aren't being caught."
   ]
  },
  {
   "cell_type": "markdown",
   "id": "a79ddcd2-8252-4a85-95ca-3b1c767d9d16",
   "metadata": {},
   "source": [
    "## Training and evaluating Support Vector Machine (SVM)"
   ]
  },
  {
   "cell_type": "code",
   "execution_count": 60,
   "id": "c9154ab1-8e4f-42db-84f9-832c1ce0dfd4",
   "metadata": {},
   "outputs": [
    {
     "name": "stdout",
     "output_type": "stream",
     "text": [
      "SVM Accuracy: 0.9820627802690582\n",
      "              precision    recall  f1-score   support\n",
      "\n",
      "         ham       0.98      1.00      0.99       965\n",
      "        spam       0.99      0.88      0.93       150\n",
      "\n",
      "    accuracy                           0.98      1115\n",
      "   macro avg       0.98      0.94      0.96      1115\n",
      "weighted avg       0.98      0.98      0.98      1115\n",
      "\n"
     ]
    }
   ],
   "source": [
    "svm.fit(X_train_tfidf, y_train)\n",
    "y_pred_svm = svm.predict(X_test_tfidf)\n",
    "svm_acc = accuracy_score(y_test, y_pred_svm)\n",
    "print(f\"SVM Accuracy: {svm_acc}\")\n",
    "print(classification_report(y_test, y_pred_svm))"
   ]
  },
  {
   "cell_type": "markdown",
   "id": "62443d7f-9e8a-4f60-94f3-9333bf32df21",
   "metadata": {},
   "source": [
    "Key Insights:\n",
    "\n",
    "1. Improved Recall for Spam:\n",
    "Compared to logistic regression, SVM significantly improves the recall for spam, from 0.65 to 0.88. This means it catches 88% of spam emails, making it a more reliable model for detecting spam.\n",
    "\n",
    "2. High Precision for Spam:\n",
    "With a precision of 0.99 for spam, this model is very confident when labeling emails as spam. This means there are very few false positives (ham misclassified as spam), which is important in reducing frustration for users who might miss important emails.\n",
    "\n",
    "3. High Overall Accuracy:\n",
    "The SVM model has an overall accuracy of 98.21%, which is a significant improvement over the logistic regression model’s 95%. This indicates that the SVM model performs exceptionally well across both classes."
   ]
  },
  {
   "cell_type": "markdown",
   "id": "dbd9e1df-d834-429d-b1fd-1d90df46c4b6",
   "metadata": {},
   "source": [
    "## Training and evaluating Naive Bayes"
   ]
  },
  {
   "cell_type": "code",
   "execution_count": 31,
   "id": "e3ccbf2e-f11a-48e9-b565-62899b964464",
   "metadata": {},
   "outputs": [
    {
     "name": "stdout",
     "output_type": "stream",
     "text": [
      "Naive Bayes Accuracy: 0.968609865470852\n",
      "              precision    recall  f1-score   support\n",
      "\n",
      "         ham       0.96      1.00      0.98       965\n",
      "        spam       1.00      0.77      0.87       150\n",
      "\n",
      "    accuracy                           0.97      1115\n",
      "   macro avg       0.98      0.88      0.93      1115\n",
      "weighted avg       0.97      0.97      0.97      1115\n",
      "\n"
     ]
    }
   ],
   "source": [
    "nb.fit(X_train_tfidf, y_train)\n",
    "y_pred_nb = nb.predict(X_test_tfidf)\n",
    "nb_acc = accuracy_score(y_test, y_pred_nb)\n",
    "print(f\"Naive Bayes Accuracy: {nb_acc}\")\n",
    "print(classification_report(y_test, y_pred_nb))"
   ]
  },
  {
   "cell_type": "markdown",
   "id": "aa9c9d72-035d-43c4-b167-fe80b30dc2f0",
   "metadata": {},
   "source": [
    "Key Insights:\n",
    "\n",
    "1. Perfect Precision for Spam:\n",
    "The Naive Bayes classifier has perfect precision (1.00) for spam, meaning none of the emails predicted as spam were actually ham. This is crucial in applications where false positives (misclassifying ham as spam) are highly undesirable.\n",
    "\n",
    "2. Lower Recall for Spam:\n",
    "The recall for spam is 0.77, meaning 23% of actual spam emails were classified as ham. This is better than the logistic regression model (recall of 0.65 for spam) but lower than the SVM model (recall of 0.88). So while Naive Bayes is very cautious and accurate when it flags an email as spam, it misses more spam emails than SVM.\n",
    "\n",
    "3. High Overall Performance for Ham:\n",
    "For the ham class, Naive Bayes performs very well, with perfect recall (1.00) and strong precision (0.96). This means that all ham emails are correctly identified, and the misclassification of ham as spam is minimal."
   ]
  },
  {
   "cell_type": "markdown",
   "id": "fe0c1248-b8e8-4b66-8559-d00b5c2128a1",
   "metadata": {},
   "source": [
    "## Training and evaluating Random Forest"
   ]
  },
  {
   "cell_type": "code",
   "execution_count": 32,
   "id": "6b467060-5a11-4363-aa67-272a5c259a8b",
   "metadata": {},
   "outputs": [
    {
     "name": "stdout",
     "output_type": "stream",
     "text": [
      "Random Forest Accuracy: 0.9713004484304932\n",
      "              precision    recall  f1-score   support\n",
      "\n",
      "         ham       0.97      1.00      0.98       965\n",
      "        spam       1.00      0.79      0.88       150\n",
      "\n",
      "    accuracy                           0.97      1115\n",
      "   macro avg       0.98      0.89      0.93      1115\n",
      "weighted avg       0.97      0.97      0.97      1115\n",
      "\n"
     ]
    }
   ],
   "source": [
    "rf.fit(X_train_tfidf, y_train)\n",
    "y_pred_rf = rf.predict(X_test_tfidf)\n",
    "rf_acc = accuracy_score(y_test, y_pred_rf)\n",
    "print(f\"Random Forest Accuracy: {rf_acc}\")\n",
    "print(classification_report(y_test, y_pred_rf))"
   ]
  },
  {
   "cell_type": "markdown",
   "id": "6fd32c17-8401-434c-adef-88b56c2e97ff",
   "metadata": {},
   "source": [
    "Key Insights:\n",
    "\n",
    "1. Perfect Precision for Spam:\n",
    "The Random Forest model has perfect precision for spam (1.00), meaning it doesn’t misclassify any ham emails as spam. This makes it very cautious and accurate when identifying spam.\n",
    "\n",
    "2. Moderate Recall for Spam:\n",
    "The recall for spam is 0.79, meaning the model correctly identifies 79% of actual spam emails, while 21% are misclassified as ham. This recall is slightly better than Naive Bayes (0.77) but lower than SVM (0.88). So, while the model is good at avoiding false positives, it still misses some spam emails.\n",
    "\n",
    "3. High Overall Performance for Ham:\n",
    "For the ham class, the Random Forest model performs extremely well, with 100% recall and 97% precision, ensuring that almost all ham emails are correctly classified."
   ]
  },
  {
   "cell_type": "markdown",
   "id": "e221e515-d29a-40d7-8be8-98e477ad837f",
   "metadata": {},
   "source": [
    "# Confusion Matrices for Each Model"
   ]
  },
  {
   "cell_type": "code",
   "execution_count": 46,
   "id": "68c2d262-b3db-47ff-99f4-440733a188e8",
   "metadata": {},
   "outputs": [],
   "source": [
    "cm_log = confusion_matrix(y_test, y_pred_log)\n",
    "cm_svm = confusion_matrix(y_test, y_pred_svm)\n",
    "cm_nb = confusion_matrix(y_test, y_pred_nb)\n",
    "cm_rf = confusion_matrix(y_test, y_pred_rf)"
   ]
  },
  {
   "cell_type": "code",
   "execution_count": 47,
   "id": "38cfca3c-805a-445c-ad15-1f9288917a67",
   "metadata": {},
   "outputs": [],
   "source": [
    "# Function to plot confusion matrix\n",
    "def plot_confusion_matrix(cm, title):\n",
    "    plt.figure(figsize=(6, 4))\n",
    "    sns.heatmap(cm, annot=True, fmt='d', cmap='Blues')\n",
    "    plt.title(title)\n",
    "    plt.xlabel('Predicted')\n",
    "    plt.ylabel('Actual')\n",
    "    plt.show()"
   ]
  },
  {
   "cell_type": "markdown",
   "id": "04af1e0a-a5ca-4bc4-86dd-312b2ae9a4f6",
   "metadata": {},
   "source": [
    "### Plotting of confusion matrices for each model"
   ]
  },
  {
   "cell_type": "code",
   "execution_count": 48,
   "id": "696f0697-ee95-4418-bd87-2f3a35f3b05f",
   "metadata": {},
   "outputs": [
    {
     "data": {
      "image/png": "[encoded data removed]",
      "text/plain": [
       "<Figure size 600x400 with 2 Axes>"
      ]
     },
     "metadata": {},
     "output_type": "display_data"
    }
   ],
   "source": [
    "plot_confusion_matrix(cm_log, 'Logistic Regression Confusion Matrix')"
   ]
  },
  {
   "cell_type": "code",
   "execution_count": 49,
   "id": "c8d3e3ae-ab58-48cc-867c-0fa2fa6dec51",
   "metadata": {},
   "outputs": [
    {
     "data": {
      "image/png": "[encoded data removed]",
      "text/plain": [
       "<Figure size 600x400 with 2 Axes>"
      ]
     },
     "metadata": {},
     "output_type": "display_data"
    }
   ],
   "source": [
    "plot_confusion_matrix(cm_svm, 'SVM Confusion Matrix')"
   ]
  },
  {
   "cell_type": "code",
   "execution_count": 50,
   "id": "e65468fa-6835-490d-94da-dbbed42333c8",
   "metadata": {},
   "outputs": [
    {
     "data": {
      "image/png": "[encoded data removed]",
      "text/plain": [
       "<Figure size 600x400 with 2 Axes>"
      ]
     },
     "metadata": {},
     "output_type": "display_data"
    }
   ],
   "source": [
    "plot_confusion_matrix(cm_nb, 'Naive Bayes Confusion Matrix')"
   ]
  },
  {
   "cell_type": "code",
   "execution_count": 51,
   "id": "a47a76d1-a998-44d6-8150-b2f602cfcbdb",
   "metadata": {},
   "outputs": [
    {
     "data": {
      "image/png": "[encoded data removed]",
      "text/plain": [
       "<Figure size 600x400 with 2 Axes>"
      ]
     },
     "metadata": {},
     "output_type": "display_data"
    }
   ],
   "source": [
    "plot_confusion_matrix(cm_rf, 'Random Forest Confusion Matrix')"
   ]
  },
  {
   "cell_type": "markdown",
   "id": "4ba52ad1-4bd8-4f38-bb19-8008c2d3cea0",
   "metadata": {},
   "source": [
    "."
   ]
  },
  {
   "cell_type": "markdown",
   "id": "9ee4d379-c17c-4f34-9697-839eca422327",
   "metadata": {},
   "source": [
    "Key Takeaways from the Confusion Matrices:\n",
    "- SVM is the best at correctly identifying spam emails (highest true positives and lowest false negatives).\n",
    "- Logistic Regression struggles the most with spam detection (highest false negatives).\n",
    "- All models are perfect at classifying ham emails, as no false positives (ham misclassified as spam) were recorded across the board.\n",
    "- Naive Bayes and Random Forest perform similarly, with Random Forest having a slight edge in classifying spam."
   ]
  },
  {
   "cell_type": "markdown",
   "id": "2d70062b-e014-4fd2-bd36-ce3837da2ddd",
   "metadata": {},
   "source": [
    "# Comparing model accuracies"
   ]
  },
  {
   "cell_type": "code",
   "execution_count": 54,
   "id": "20e6acd9-3f4b-495e-a6c8-3e80805279d3",
   "metadata": {},
   "outputs": [],
   "source": [
    "models = ['Logistic Regression', 'SVM', 'Naive Bayes', 'Random Forest']\n",
    "accuracies = [log_acc, svm_acc, nb_acc, rf_acc]"
   ]
  },
  {
   "cell_type": "code",
   "execution_count": 55,
   "id": "057e7870-f316-43b1-8f80-76be5195b691",
   "metadata": {},
   "outputs": [
    {
     "data": {
      "text/plain": [
       "[0.9506726457399103, 0.9820627802690582, 0.968609865470852, 0.9713004484304932]"
      ]
     },
     "execution_count": 55,
     "metadata": {},
     "output_type": "execute_result"
    }
   ],
   "source": [
    "accuracies"
   ]
  },
  {
   "cell_type": "code",
   "execution_count": 56,
   "id": "31e18b52-421f-4bfa-bf02-54b7b4b76471",
   "metadata": {},
   "outputs": [
    {
     "data": {
      "image/png": "[encoded data removed]",
      "text/plain": [
       "<Figure size 800x500 with 1 Axes>"
      ]
     },
     "metadata": {},
     "output_type": "display_data"
    }
   ],
   "source": [
    "plt.figure(figsize=(8, 5))\n",
    "sns.barplot(x=models, y=accuracies, palette='viridis')\n",
    "plt.title('Model Accuracy Comparison')\n",
    "plt.ylabel('Accuracy')\n",
    "plt.xlabel('Models')\n",
    "plt.show()"
   ]
  },
  {
   "cell_type": "markdown",
   "id": "02a5519c-2342-4d77-a1c5-c25c3c636c33",
   "metadata": {},
   "source": [
    "# Hyperparameter Tuning"
   ]
  },
  {
   "cell_type": "markdown",
   "id": "ad4a1805-06de-44a1-99fb-4c667a9fb47d",
   "metadata": {},
   "source": [
    "Hyperparameter tuning is a critical step in improving the performance of machine learning models by finding the best combination of parameters. For the Email Spam Detection project using classifiers like Random Forest or Support Vector Machine (SVM), we can optimize the hyperparameters using techniques like Grid Search or Random Search."
   ]
  },
  {
   "cell_type": "code",
   "execution_count": 70,
   "id": "e33aac8b-f4e6-41a5-b973-2e1e0feaea59",
   "metadata": {},
   "outputs": [],
   "source": [
    "# Import necessary libraries\n",
    "from sklearn.model_selection import train_test_split\n",
    "from sklearn.feature_extraction.text import TfidfVectorizer\n",
    "from sklearn.preprocessing import LabelEncoder"
   ]
  },
  {
   "cell_type": "code",
   "execution_count": 73,
   "id": "488dc596-0fb0-4f38-bd97-f814eba86c8e",
   "metadata": {},
   "outputs": [
    {
     "data": {
      "text/plain": [
       "0       0\n",
       "1       0\n",
       "2       1\n",
       "3       0\n",
       "4       0\n",
       "       ..\n",
       "5567    1\n",
       "5568    0\n",
       "5569    0\n",
       "5570    0\n",
       "5571    0\n",
       "Name: spam, Length: 5572, dtype: int64"
      ]
     },
     "execution_count": 73,
     "metadata": {},
     "output_type": "execute_result"
    }
   ],
   "source": [
    "# Preprocess data (assuming df has 'label' and 'text' columns)\n",
    "df['spam'] = df['label'].map({'ham': 0, 'spam': 1})\n",
    "df['spam']"
   ]
  },
  {
   "cell_type": "code",
   "execution_count": 74,
   "id": "92557e8f-22af-4600-980c-f605f7749b12",
   "metadata": {},
   "outputs": [],
   "source": [
    "# Splitting into training and testing sets\n",
    "X = df['text']  # Features (email text)\n",
    "y = df['spam']  # Labels (spam/ham)"
   ]
  },
  {
   "cell_type": "code",
   "execution_count": 75,
   "id": "3ecbc830-71fa-4c81-ac1a-3aa9ffec4d07",
   "metadata": {},
   "outputs": [],
   "source": [
    "# Convert text data to TF-IDF vectors\n",
    "vectorizer = TfidfVectorizer(stop_words='english', max_features=3000)\n",
    "X_tfidf = vectorizer.fit_transform(X)"
   ]
  },
  {
   "cell_type": "code",
   "execution_count": 76,
   "id": "6c8e0b2a-588c-4fa0-9478-805c5d2f9df2",
   "metadata": {},
   "outputs": [],
   "source": [
    "# Split the data\n",
    "X_train, X_test, y_train, y_test = train_test_split(X_tfidf, y, test_size=0.2, random_state=42)"
   ]
  },
  {
   "cell_type": "code",
   "execution_count": 77,
   "id": "5f4fb419-f74a-4ec8-b639-68fadd12dd06",
   "metadata": {},
   "outputs": [],
   "source": [
    "# Label encode the target variable (0 for ham, 1 for spam)\n",
    "le = LabelEncoder()\n",
    "y_train = le.fit_transform(y_train)\n",
    "y_test = le.transform(y_test)"
   ]
  },
  {
   "cell_type": "markdown",
   "id": "37c00a89-76ae-4a85-8021-7b305d57cafe",
   "metadata": {},
   "source": [
    "### Hyperparameter Tuning for Random Forest"
   ]
  },
  {
   "cell_type": "markdown",
   "id": "6a52e717-644d-4bfb-ba1a-f07bfbe9d186",
   "metadata": {},
   "source": [
    "For Random Forest, we can tune parameters such as:\n",
    "\n",
    "- n_estimators: Number of trees in the forest.\n",
    "- max_depth: Maximum depth of the tree.\n",
    "- min_samples_split: Minimum number of samples required to split a node.\n",
    "- min_samples_leaf: Minimum number of samples required to be at a leaf node."
   ]
  },
  {
   "cell_type": "code",
   "execution_count": 79,
   "id": "6c46d10d-d36c-4325-b06d-010491ae5c77",
   "metadata": {},
   "outputs": [],
   "source": [
    "from sklearn.ensemble import RandomForestClassifier\n",
    "from sklearn.model_selection import GridSearchCV"
   ]
  },
  {
   "cell_type": "code",
   "execution_count": 80,
   "id": "1d44d48b-db66-42fa-b1ac-f8bc15181138",
   "metadata": {},
   "outputs": [],
   "source": [
    "# Set up the parameter grid for Random Forest\n",
    "param_grid_rf = {\n",
    "    'n_estimators': [100, 200, 500],\n",
    "    'max_depth': [10, 20, 30, None],\n",
    "    'min_samples_split': [2, 5, 10],\n",
    "    'min_samples_leaf': [1, 2, 4],\n",
    "    'bootstrap': [True, False]\n",
    "}"
   ]
  },
  {
   "cell_type": "code",
   "execution_count": 81,
   "id": "91fdf92a-d566-4472-b18a-8ba06bb9349f",
   "metadata": {},
   "outputs": [],
   "source": [
    "# Initialize Random Forest model\n",
    "rf_model = RandomForestClassifier(random_state=42)"
   ]
  },
  {
   "cell_type": "code",
   "execution_count": 82,
   "id": "f4b2e635-c80f-4ec6-8462-dc8bb33dadd0",
   "metadata": {},
   "outputs": [],
   "source": [
    "# Set up GridSearchCV\n",
    "grid_search_rf = GridSearchCV(estimator=rf_model, param_grid=param_grid_rf, cv=3, n_jobs=-1, verbose=2, scoring='accuracy')"
   ]
  },
  {
   "cell_type": "code",
   "execution_count": 83,
   "id": "3e049639-56c7-4012-9a69-d7d327b9daed",
   "metadata": {},
   "outputs": [
    {
     "name": "stdout",
     "output_type": "stream",
     "text": [
      "Fitting 3 folds for each of 216 candidates, totalling 648 fits\n"
     ]
    },
    {
     "data": {
      "text/plain": [
       "GridSearchCV(cv=3, estimator=RandomForestClassifier(random_state=42), n_jobs=-1,\n",
       "             param_grid={'bootstrap': [True, False],\n",
       "                         'max_depth': [10, 20, 30, None],\n",
       "                         'min_samples_leaf': [1, 2, 4],\n",
       "                         'min_samples_split': [2, 5, 10],\n",
       "                         'n_estimators': [100, 200, 500]},\n",
       "             scoring='accuracy', verbose=2)"
      ]
     },
     "execution_count": 83,
     "metadata": {},
     "output_type": "execute_result"
    }
   ],
   "source": [
    "# Fit the model\n",
    "grid_search_rf.fit(X_train, y_train)"
   ]
  },
  {
   "cell_type": "code",
   "execution_count": 84,
   "id": "f3a3542c-6a24-4bb3-92c9-78dce0ec17eb",
   "metadata": {},
   "outputs": [
    {
     "name": "stdout",
     "output_type": "stream",
     "text": [
      "Best Random Forest Parameters: {'bootstrap': False, 'max_depth': None, 'min_samples_leaf': 1, 'min_samples_split': 5, 'n_estimators': 500}\n",
      "Best Random Forest Accuracy: 0.9775619209894669\n"
     ]
    }
   ],
   "source": [
    "# Best parameters and accuracy\n",
    "print(\"Best Random Forest Parameters:\", grid_search_rf.best_params_)\n",
    "print(\"Best Random Forest Accuracy:\", grid_search_rf.best_score_)"
   ]
  },
  {
   "cell_type": "markdown",
   "id": "bb2f96fd-fb27-48aa-b493-555c83a60a5d",
   "metadata": {},
   "source": [
    "### Hyperparameter Tuning for Support Vector Classifier (SVC)"
   ]
  },
  {
   "cell_type": "code",
   "execution_count": 85,
   "id": "28003d6a-c17e-4ff0-a9b7-f61d56ec9bf8",
   "metadata": {},
   "outputs": [],
   "source": [
    "from sklearn.svm import SVC"
   ]
  },
  {
   "cell_type": "code",
   "execution_count": 86,
   "id": "b200d77d-a1c2-4d0a-b4b9-2f9b8f0f8bb4",
   "metadata": {},
   "outputs": [],
   "source": [
    "# Set up the parameter grid for SVM\n",
    "param_grid_svc = {\n",
    "    'C': [0.1, 1, 10, 100],\n",
    "    'gamma': ['scale', 'auto', 0.01, 0.1, 1],\n",
    "    'kernel': ['linear', 'poly', 'rbf']\n",
    "}"
   ]
  },
  {
   "cell_type": "code",
   "execution_count": 87,
   "id": "b539abf9-b94f-4e65-9a0b-b95119970924",
   "metadata": {},
   "outputs": [],
   "source": [
    "# Initialize the SVC model\n",
    "svc_model = SVC(random_state=42)"
   ]
  },
  {
   "cell_type": "code",
   "execution_count": 88,
   "id": "776ae1e8-fce2-408c-b99e-f6767df931b6",
   "metadata": {},
   "outputs": [],
   "source": [
    "# Set up GridSearchCV\n",
    "grid_search_svc = GridSearchCV(estimator=svc_model, param_grid=param_grid_svc, cv=3, n_jobs=-1, verbose=2, scoring='accuracy')"
   ]
  },
  {
   "cell_type": "code",
   "execution_count": 89,
   "id": "973bcebd-a7b3-4a84-9351-b4780f8618b9",
   "metadata": {},
   "outputs": [
    {
     "name": "stdout",
     "output_type": "stream",
     "text": [
      "Fitting 3 folds for each of 60 candidates, totalling 180 fits\n"
     ]
    },
    {
     "data": {
      "text/plain": [
       "GridSearchCV(cv=3, estimator=SVC(random_state=42), n_jobs=-1,\n",
       "             param_grid={'C': [0.1, 1, 10, 100],\n",
       "                         'gamma': ['scale', 'auto', 0.01, 0.1, 1],\n",
       "                         'kernel': ['linear', 'poly', 'rbf']},\n",
       "             scoring='accuracy', verbose=2)"
      ]
     },
     "execution_count": 89,
     "metadata": {},
     "output_type": "execute_result"
    }
   ],
   "source": [
    "# Fit the model\n",
    "grid_search_svc.fit(X_train, y_train)"
   ]
  },
  {
   "cell_type": "code",
   "execution_count": 90,
   "id": "e4a26de0-f870-42de-8641-256ffcf6f423",
   "metadata": {},
   "outputs": [
    {
     "name": "stdout",
     "output_type": "stream",
     "text": [
      "Best SVC Parameters: {'C': 10, 'gamma': 0.1, 'kernel': 'rbf'}\n",
      "Best SVC Accuracy: 0.9800309057375006\n"
     ]
    }
   ],
   "source": [
    "# Best parameters and accuracy\n",
    "print(\"Best SVC Parameters:\", grid_search_svc.best_params_)\n",
    "print(\"Best SVC Accuracy:\", grid_search_svc.best_score_)"
   ]
  },
  {
   "cell_type": "markdown",
   "id": "deb9a344-2a27-4416-9636-6a3c840987f1",
   "metadata": {},
   "source": [
    "### Evaluating the Best Models"
   ]
  },
  {
   "cell_type": "code",
   "execution_count": 91,
   "id": "e2989419-0f49-4aab-86b9-b2967746dca3",
   "metadata": {},
   "outputs": [],
   "source": [
    "from sklearn.metrics import accuracy_score, classification_report, confusion_matrix\n",
    "import seaborn as sns"
   ]
  },
  {
   "cell_type": "code",
   "execution_count": 92,
   "id": "1addcc3b-354a-4695-8033-45c18fa79da4",
   "metadata": {},
   "outputs": [
    {
     "name": "stdout",
     "output_type": "stream",
     "text": [
      "Random Forest Test Accuracy: 0.979372197309417\n",
      "              precision    recall  f1-score   support\n",
      "\n",
      "           0       0.98      1.00      0.99       965\n",
      "           1       0.99      0.85      0.92       150\n",
      "\n",
      "    accuracy                           0.98      1115\n",
      "   macro avg       0.98      0.93      0.95      1115\n",
      "weighted avg       0.98      0.98      0.98      1115\n",
      "\n"
     ]
    }
   ],
   "source": [
    "# Evaluate the best Random Forest model on the test set\n",
    "best_rf_model = grid_search_rf.best_estimator_\n",
    "y_pred_rf = best_rf_model.predict(X_test)\n",
    "rf_accuracy = accuracy_score(y_test, y_pred_rf)\n",
    "print(f\"Random Forest Test Accuracy: {rf_accuracy}\")\n",
    "print(classification_report(y_test, y_pred_rf))"
   ]
  },
  {
   "cell_type": "code",
   "execution_count": 93,
   "id": "7bf88119-170c-4322-b6a7-9be23a3307ee",
   "metadata": {},
   "outputs": [
    {
     "name": "stdout",
     "output_type": "stream",
     "text": [
      "SVC Test Accuracy: 0.9802690582959641\n",
      "              precision    recall  f1-score   support\n",
      "\n",
      "           0       0.98      1.00      0.99       965\n",
      "           1       0.98      0.87      0.92       150\n",
      "\n",
      "    accuracy                           0.98      1115\n",
      "   macro avg       0.98      0.94      0.96      1115\n",
      "weighted avg       0.98      0.98      0.98      1115\n",
      "\n"
     ]
    }
   ],
   "source": [
    "# Evaluate the best SVC model on the test set\n",
    "best_svc_model = grid_search_svc.best_estimator_\n",
    "y_pred_svc = best_svc_model.predict(X_test)\n",
    "svc_accuracy = accuracy_score(y_test, y_pred_svc)\n",
    "print(f\"SVC Test Accuracy: {svc_accuracy}\")\n",
    "print(classification_report(y_test, y_pred_svc))"
   ]
  },
  {
   "cell_type": "code",
   "execution_count": 94,
   "id": "2e6a7d47-cf55-44e7-b866-22a35a628e42",
   "metadata": {},
   "outputs": [
    {
     "data": {
      "image/png": "[encoded data removed]",
      "text/plain": [
       "<Figure size 640x480 with 2 Axes>"
      ]
     },
     "metadata": {},
     "output_type": "display_data"
    }
   ],
   "source": [
    "# Confusion matrix for Random Forest\n",
    "cm_rf = confusion_matrix(y_test, y_pred_rf)\n",
    "sns.heatmap(cm_rf, annot=True, fmt='d', cmap='Blues')\n",
    "plt.title('Confusion Matrix - Random Forest')\n",
    "plt.xlabel('Predicted')\n",
    "plt.ylabel('Actual')\n",
    "plt.show()"
   ]
  },
  {
   "cell_type": "code",
   "execution_count": 95,
   "id": "d5bfb315-cea6-4f70-9b54-6b356909ea21",
   "metadata": {},
   "outputs": [
    {
     "data": {
      "image/png": "[encoded data removed]",
      "text/plain": [
       "<Figure size 640x480 with 2 Axes>"
      ]
     },
     "metadata": {},
     "output_type": "display_data"
    }
   ],
   "source": [
    "# Confusion matrix for SVC\n",
    "cm_svc = confusion_matrix(y_test, y_pred_svc)\n",
    "sns.heatmap(cm_svc, annot=True, fmt='d', cmap='Blues')\n",
    "plt.title('Confusion Matrix - SVC')\n",
    "plt.xlabel('Predicted')\n",
    "plt.ylabel('Actual')\n",
    "plt.show()"
   ]
  },
  {
   "cell_type": "markdown",
   "id": "7cf58f3e-03e1-4768-a2e5-15960c91d81d",
   "metadata": {},
   "source": [
    "### Key Insights from the Comparison:"
   ]
  },
  {
   "cell_type": "markdown",
   "id": "72c33219-8d3e-4672-aad9-ff9e31482f90",
   "metadata": {},
   "source": [
    "1. Overall Accuracy:\n",
    "Both models have nearly identical accuracies around 98%, indicating both are highly capable of classifying emails as either spam or ham.\n",
    "\n",
    "2. Class 0 (Ham):\n",
    "Both models achieved perfect recall (1.00), meaning they didn’t miss any ham emails (no false positives). The precision for ham was also identical at 0.98.\n",
    "This shows both models are equally effective at correctly classifying ham emails.\n",
    "\n",
    "3. Class 1 (Spam):\n",
    "Precision: Random Forest slightly outperformed SVC with a precision of 0.99 versus 0.98 for SVC. This means that when Random Forest predicted spam, it was correct slightly more often.\n",
    "Recall: SVC had a slight advantage in spam recall, 0.87 compared to 0.85 for Random Forest. This means SVC was able to identify more actual spam emails, missing fewer of them.\n",
    "\n",
    "4. F1-Score:\n",
    "For spam emails, both models have the same F1-score of 0.92, indicating similar balance between precision and recall.Macro Avg F1-Score: SVC has a slight edge here with 0.96, compared to 0.95 for Random Forest. This takes into account the F1-scores for both ham and spam, and the slight improvement comes from the better recall of spam in the SVC model.\n",
    "\n",
    "5. Weighted Avg F1-Score:\n",
    "Both models have a weighted F1-score of 0.98, indicating very high performance across all classes, weighted by the number of samples.\n",
    "### Which Model to Choose?\n",
    "\n",
    "- Random Forest:\n",
    "Slightly better precision for spam, meaning it is less likely to produce false positives (labeling a ham email as spam).\n",
    "More interpretable due to its structure as a collection of decision trees, and easier to tune with additional hyperparameters (e.g., adjusting feature importance).\n",
    "\n",
    "- SVC:\n",
    "Slightly better recall for spam: It detects more spam emails but may let through a small number of false positives (ham emails labeled as spam).\n",
    "More robust in cases with high-dimensional data and might generalize slightly better to unseen data.\n",
    "\n",
    "### Final Recommendation:\n",
    "\n",
    "If you value precision more (i.e., avoiding false positives, where ham emails are classified as spam), then Random Forest is the better choice.\n",
    "\n",
    "If you value recall more (i.e., ensuring you catch as many spam emails as possible, even if it means a few more false positives), then SVC would be a better choice."
   ]
  },
  {
   "cell_type": "code",
   "execution_count": 96,
   "id": "59a8012d-162c-45bb-9ae9-9b4765cf3370",
   "metadata": {},
   "outputs": [],
   "source": [
    "import pickle\n",
    "\n",
    "with open('spam_classifier_model.pkl', 'wb') as file:\n",
    "    pickle.dump(best_rf_model, file)\n",
    "\n",
    "with open('vectorizer.pkl', 'wb') as file:\n",
    "    pickle.dump(vectorizer, file)\n"
   ]
  },
  {
   "cell_type": "code",
   "execution_count": null,
   "id": "0363f525-b0c6-4ab9-900b-327720b1cd75",
   "metadata": {},
   "outputs": [],
   "source": []
  }
 ],
 "metadata": {
  "kernelspec": {
   "display_name": "Python 3 (ipykernel)",
   "language": "python",
   "name": "python3"
  },
  "language_info": {
   "codemirror_mode": {
    "name": "ipython",
    "version": 3
   },
   "file_extension": ".py",
   "mimetype": "text/x-python",
   "name": "python",
   "nbconvert_exporter": "python",
   "pygments_lexer": "ipython3",
   "version": "3.8.8"
  }
 },
 "nbformat": 4,
 "nbformat_minor": 5
}
